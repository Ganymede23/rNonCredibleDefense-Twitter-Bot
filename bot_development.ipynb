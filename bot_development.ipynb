{
 "cells": [
  {
   "cell_type": "code",
   "execution_count": null,
   "metadata": {},
   "outputs": [],
   "source": [
    "# Twitter Authentication\n",
    "\n",
    "import tweepy\n",
    "from twitter_authentication import API_KEY, API_SECRET, ACCESS_TOKEN, ACCESS_TOKEN_SECRET\n",
    "\n",
    "oauth1_user_handler = tweepy.OAuth1UserHandler(\n",
    "    API_KEY, API_SECRET,\n",
    "    callback=\"oob\"\n",
    ")\n",
    "\n",
    "print(oauth1_user_handler.get_authorization_url())\n",
    "\n",
    "verifier = input(\"Input PIN: \")\n",
    "access_token, access_token_secret = oauth1_user_handler.get_access_token(\n",
    "    verifier\n",
    ")"
   ]
  },
  {
   "cell_type": "code",
   "execution_count": null,
   "metadata": {},
   "outputs": [],
   "source": [
    "# API\n",
    "auth = tweepy.OAuthHandler(API_KEY, API_SECRET)\n",
    "auth.set_access_token(ACCESS_TOKEN, ACCESS_TOKEN_SECRET)\n",
    "api = tweepy.API(auth)\n",
    "\n",
    "# Client\n",
    "client = tweepy.Client(\n",
    "    consumer_key = API_KEY,\n",
    "    consumer_secret = API_SECRET,\n",
    "    access_token = ACCESS_TOKEN,\n",
    "    access_token_secret = ACCESS_TOKEN_SECRET,\n",
    ")\n",
    "\n",
    "media = api.media_upload(\"Media/aeroGAVIN.jpg\")\n",
    "print(media)\n",
    "\n",
    "client.create_tweet(text='t4', media_ids=[media.media_id])\n"
   ]
  },
  {
   "cell_type": "code",
   "execution_count": null,
   "metadata": {},
   "outputs": [],
   "source": [
    "# Reddit authentication\n",
    "\n",
    "import praw\n",
    "from reddit_authentication import CLIENT_ID, SECRET_KEY, USER_AGENT\n",
    "\n",
    "reddit = praw.Reddit(\n",
    "    client_id = CLIENT_ID,\n",
    "    client_secret = SECRET_KEY,\n",
    "    user_agent = USER_AGENT,\n",
    ")"
   ]
  },
  {
   "cell_type": "code",
   "execution_count": null,
   "metadata": {},
   "outputs": [],
   "source": [
    "for submission in reddit.subreddit(\"NonCredibleDefense\").hot(limit=4):\n",
    "    if not submission.stickied:\n",
    "        print(f'Post: {submission.id, submission.name, submission.title, submission.selftext}')\n",
    "        print(f'Flair: {submission.link_flair_text}')\n",
    "        print(f'Status: {submission.over_18, submission.spoiler, submission.stickied, submission.created_utc}')\n",
    "        print(f'Links: reddit.com{submission.permalink}, {submission.url}')\n",
    "        print(f'Author: {submission.author.name}')\n",
    "\n",
    "        title = submission.title\n",
    "        hashtag = submission.link_flair_text.translate(str.maketrans('&', 'n', '!/ '))\n",
    "        submission_url = 'reddit.com' + submission.permalink\n",
    "        media_url = submission.url\n",
    "        user = submission.author.name\n",
    "        user_profile_url = 'reddit.com/u/' + user\n",
    "\n",
    "# https://praw.readthedocs.io/en/stable/getting_started/quick_start.html\n",
    "# https://github.com/reddit-archive/reddit/wiki/API#rules\n",
    "# https://docs.python.org/3/library/sqlite3.html"
   ]
  },
  {
   "cell_type": "code",
   "execution_count": null,
   "metadata": {},
   "outputs": [],
   "source": [
    "import requests\n",
    "r = requests.get('https://i.redd.it/x28vd3vv3lja1.png', headers={'User-Agent': 'Chrome'})\n",
    "print(r)"
   ]
  },
  {
   "cell_type": "code",
   "execution_count": null,
   "metadata": {},
   "outputs": [],
   "source": [
    "import textwrap\n",
    "\n",
    "TWEET_CHARACTER_LIMIT = 280\n",
    "TWEET_URL_LENGTH = 23\n",
    "TWEET_STRUCTURE_LENGTH = 8\n",
    "\n",
    "\n",
    "width = TWEET_CHARACTER_LIMIT - TWEET_URL_LENGTH - len(hashtag) - TWEET_STRUCTURE_LENGTH\n",
    "title = title\n",
    "title_wrapped = textwrap.shorten(title, width, placeholder='...')\n",
    "tweet_text = f\"\"\"\n",
    "{title_wrapped} #{hashtag}\n",
    "\n",
    "OP: {submission_url}\n",
    "\"\"\"\n",
    "tweet_text = tweet_text[1:-1]\n",
    "print(tweet_text)\n",
    "print()\n",
    "print(f' Text length: {len(tweet_text[1:-1])}')\n",
    "print(f'Tweet length: {len(tweet_text[1:-1]) - len(submission_url) + TWEET_URL_LENGTH}')\n",
    "print(width)\n",
    "print(width + TWEET_URL_LENGTH + len(hashtag) + 8)\n"
   ]
  }
 ],
 "metadata": {
  "kernelspec": {
   "display_name": "venv",
   "language": "python",
   "name": "python3"
  },
  "language_info": {
   "codemirror_mode": {
    "name": "ipython",
    "version": 3
   },
   "file_extension": ".py",
   "mimetype": "text/x-python",
   "name": "python",
   "nbconvert_exporter": "python",
   "pygments_lexer": "ipython3",
   "version": "3.8.5"
  },
  "orig_nbformat": 4,
  "vscode": {
   "interpreter": {
    "hash": "a60f6464117e5c02b76173259f6f8a0f76e083cf7eb6246def704d393161af22"
   }
  }
 },
 "nbformat": 4,
 "nbformat_minor": 2
}
